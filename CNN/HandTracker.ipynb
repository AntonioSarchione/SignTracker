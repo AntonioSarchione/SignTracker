{
 "cells": [
  {
   "cell_type": "code",
   "execution_count": null,
   "id": "4bb770d5",
   "metadata": {},
   "outputs": [],
   "source": [
    "import numpy as np\n",
    "import pandas as pd\n",
    "import tensorflow as tf\n",
    "import os\n",
    "os.environ['TF_CPP_MIN_LOG_LEVEL'] = '3' \n",
    "import cv2"
   ]
  },
  {
   "cell_type": "code",
   "execution_count": null,
   "id": "aa805db6",
   "metadata": {},
   "outputs": [],
   "source": [
    "IMAGES_PATH = \"../SignTracker/hand_images\""
   ]
  },
  {
   "cell_type": "code",
   "execution_count": null,
   "id": "5633e3b0",
   "metadata": {},
   "outputs": [],
   "source": [
    "label = os.listdir(IMAGES_PATH) #solo 'hand'\n",
    "print(labels)"
   ]
  },
  {
   "cell_type": "code",
   "execution_count": null,
   "id": "00600dc2",
   "metadata": {},
   "outputs": [],
   "source": [
    "image_array=[]"
   ]
  },
  {
   "cell_type": "code",
   "execution_count": null,
   "id": "3c3bddb7",
   "metadata": {},
   "outputs": [],
   "source": [
    "images = os.listdir(IMAGES_PATH + \"/\" + labels)\n",
    "    #print(images)\n",
    "    \n",
    "    for j in range(len(images)):\n",
    "        file_path = IMAGES_PATH + \"/\" + labels + \"/\" + images[j]\n",
    "        \n",
    "        #read\n",
    "        img = cv2.imread(file_path)\n",
    "        #resize\n",
    "        img = cv2.resize(img,(300,300))\n",
    "        #convert BGR to RGB\n",
    "        img = cv2.cvtColor(img, cv2.COLOR_BGR2RGB)\n",
    "        #add img\n",
    "        image_array.append(img)\n",
    "        #add label\n",
    "        label_array.append(i)\n",
    "        "
   ]
  },
  {
   "cell_type": "code",
   "execution_count": null,
   "id": "cc9bc8d1",
   "metadata": {},
   "outputs": [],
   "source": [
    "#list to array\n",
    "image_array = np.array(image_array)\n",
    "label_array = np.array(label_array, dtype = \"float\")"
   ]
  },
  {
   "cell_type": "code",
   "execution_count": null,
   "id": "0a493ab1",
   "metadata": {},
   "outputs": [],
   "source": [
    "from sklearn.model_selection import train_test_split"
   ]
  },
  {
   "cell_type": "code",
   "execution_count": null,
   "id": "548fc714",
   "metadata": {},
   "outputs": [],
   "source": [
    "x_train, x_test, y_train, y_test = train_test_split(image_array, label_array, test_size = 0.15)\n",
    "\n",
    "# x_train will have 85% of images \n",
    "# x_test will have 15% of images"
   ]
  },
  {
   "cell_type": "code",
   "execution_count": null,
   "id": "5b47005f",
   "metadata": {},
   "outputs": [],
   "source": [
    "del image_array"
   ]
  },
  {
   "cell_type": "code",
   "execution_count": null,
   "id": "05cef7e3",
   "metadata": {},
   "outputs": [],
   "source": [
    "#memory-free\n",
    "import gc\n",
    "gc.collect()"
   ]
  },
  {
   "cell_type": "code",
   "execution_count": null,
   "id": "e99b2ded",
   "metadata": {},
   "outputs": [],
   "source": [
    "from keras import layers,callbacks,utils,applications,optimizers\n",
    "from keras.models import Sequential, Model, load_model"
   ]
  },
  {
   "cell_type": "code",
   "execution_count": null,
   "id": "d4fa4b22",
   "metadata": {},
   "outputs": [],
   "source": [
    "model = Sequential()"
   ]
  },
  {
   "cell_type": "code",
   "execution_count": null,
   "id": "d1566b8c",
   "metadata": {},
   "outputs": [],
   "source": [
    "pretrained_model = tf.keras.applications.EfficientNetB0(input_shape = (300, 300, 3), include_top = False)\n",
    "model.add(pretrained_model)"
   ]
  },
  {
   "cell_type": "code",
   "execution_count": null,
   "id": "e2c2be59",
   "metadata": {},
   "outputs": [],
   "source": [
    "model.add(layers.GlobalAveragePooling2D())\n",
    "model.add(layers.Dropout(0.3))\n",
    "model.add(layers.Dense(1))\n",
    "model.build(input_shape=(None,300,300,3))"
   ]
  },
  {
   "cell_type": "code",
   "execution_count": null,
   "id": "82b122c4",
   "metadata": {},
   "outputs": [],
   "source": [
    "model.summary()"
   ]
  },
  {
   "cell_type": "code",
   "execution_count": null,
   "id": "362dbc03",
   "metadata": {},
   "outputs": [],
   "source": [
    "model.compile(optimizer=\"adam\",loss=\"mae\",metrics=[\"mae\"])"
   ]
  },
  {
   "cell_type": "code",
   "execution_count": null,
   "id": "9df4db3d",
   "metadata": {},
   "outputs": [],
   "source": [
    "check_path = \"../SignTracker/models/hand_checkpoint\""
   ]
  },
  {
   "cell_type": "code",
   "execution_count": null,
   "id": "8ca30ec4",
   "metadata": {},
   "outputs": [],
   "source": [
    "model_checkpoint=tf.keras.callbacks.ModelCheckpoint(\n",
    "    filepath = check_path,\n",
    "    monitor = \"val_mae\",\n",
    "    mode = \"auto\",\n",
    "    save_best_only = True,\n",
    "    save_weights_only = True\n",
    ")"
   ]
  },
  {
   "cell_type": "code",
   "execution_count": null,
   "id": "cc63bd66",
   "metadata": {},
   "outputs": [],
   "source": [
    "reduce_lr=tf.keras.callbacks.ReduceLROnPlateau(\n",
    "    factor = 0.9, #lr= 0.9* current lr\n",
    "    monitor = \"val_mae\",\n",
    "    mode = \"auto\",\n",
    "    cooldown = 0,\n",
    "    patience = 5,\n",
    "    verbose = 1,\n",
    "    min_le = 1e-6\n",
    ")"
   ]
  },
  {
   "cell_type": "code",
   "execution_count": null,
   "id": "e6de9540",
   "metadata": {},
   "outputs": [],
   "source": [
    "history=model.fit(\n",
    "    x_train,\n",
    "    y_train,\n",
    "    validation_data = (x_test, y_test),\n",
    "    batch_size = 16,\n",
    "    epochs = 150,\n",
    "    callbacks = [model_checkpoint, reduce_lr]\n",
    ")"
   ]
  },
  {
   "cell_type": "code",
   "execution_count": null,
   "id": "d8d0d700",
   "metadata": {},
   "outputs": [],
   "source": [
    "model.load_weights(check_path)"
   ]
  },
  {
   "cell_type": "code",
   "execution_count": null,
   "id": "126bc516",
   "metadata": {},
   "outputs": [],
   "source": [
    "converter=tf.lite.TFLiteConverter.from_keras_model(model)\n",
    "tflite_model=converter.convert()"
   ]
  },
  {
   "cell_type": "code",
   "execution_count": null,
   "id": "23231a0e",
   "metadata": {},
   "outputs": [],
   "source": [
    "with open(\"HandTrackerModel.tflite\",\"wb\") as f:\n",
    "    f.write(tflite_model)"
   ]
  },
  {
   "cell_type": "code",
   "execution_count": null,
   "id": "5c06a63d",
   "metadata": {},
   "outputs": [],
   "source": [
    "prediction_val=model.predict(x_test,batch_size=32)"
   ]
  },
  {
   "cell_type": "code",
   "execution_count": null,
   "id": "23627830",
   "metadata": {},
   "outputs": [],
   "source": [
    "print(prediction_val[:30])\n",
    "print(y_test[:30])"
   ]
  },
  {
   "cell_type": "code",
   "execution_count": null,
   "id": "b52ab062",
   "metadata": {},
   "outputs": [],
   "source": []
  }
 ],
 "metadata": {
  "kernelspec": {
   "display_name": "Python 3 (ipykernel)",
   "language": "python",
   "name": "python3"
  },
  "language_info": {
   "codemirror_mode": {
    "name": "ipython",
    "version": 3
   },
   "file_extension": ".py",
   "mimetype": "text/x-python",
   "name": "python",
   "nbconvert_exporter": "python",
   "pygments_lexer": "ipython3",
   "version": "3.9.13"
  }
 },
 "nbformat": 4,
 "nbformat_minor": 5
}
