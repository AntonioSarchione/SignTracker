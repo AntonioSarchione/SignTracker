{
 "cells": [
  {
   "cell_type": "code",
   "execution_count": null,
   "id": "1f6f8fd3",
   "metadata": {},
   "outputs": [],
   "source": [
    "import numpy as np\n",
    "import pandas as pd\n",
    "import tensorflow as tf\n",
    "import os\n",
    "os.environ['TF_CPP_MIN_LOG_LEVEL'] = '3' \n",
    "import cv2\n",
    "import matplotlib.pyplot as plt\n",
    "from tqdm import tqdm"
   ]
  },
  {
   "cell_type": "code",
   "execution_count": null,
   "id": "08f8cf24",
   "metadata": {},
   "outputs": [],
   "source": [
    "IMAGES_PATH = \"../SignTracker/sign_images\""
   ]
  },
  {
   "cell_type": "code",
   "execution_count": null,
   "id": "8d3a119e",
   "metadata": {},
   "outputs": [],
   "source": [
    "labels = os.listdir(IMAGES_PATH)\n",
    "labels.sort()\n",
    "print(labels)"
   ]
  },
  {
   "cell_type": "code",
   "execution_count": null,
   "id": "e4aa1205",
   "metadata": {},
   "outputs": [],
   "source": [
    "image_array=[]\n",
    "label_array=[]"
   ]
  },
  {
   "cell_type": "code",
   "execution_count": null,
   "id": "1a0f874e",
   "metadata": {},
   "outputs": [],
   "source": [
    "for i in tqdm(range(len(labels))):\n",
    "    images = os.listdir(IMAGES_PATH + \"/\" + labels[i])\n",
    "    #print(images)\n",
    "    \n",
    "    for j in range(len(images)):\n",
    "        file_path = IMAGES_PATH + \"/\" + labels[i] + \"/\" + images[j]\n",
    "        \n",
    "        #read\n",
    "        img = cv2.imread(file_path)\n",
    "        #resize\n",
    "        img = cv2.resize(img,(96,96))\n",
    "        #convert BGR to RGB\n",
    "        img = cv2.cvtColor(img, cv2.COLOR_BGR2RGB)\n",
    "        #add img\n",
    "        image_array.append(img)\n",
    "        #add label\n",
    "        label_array.append(i)\n",
    "        "
   ]
  },
  {
   "cell_type": "code",
   "execution_count": null,
   "id": "976f95c8",
   "metadata": {},
   "outputs": [],
   "source": [
    "#list to array\n",
    "image_array = np.array(image_array)\n",
    "label_array = np.array(label_array, dtype = \"float\")"
   ]
  },
  {
   "cell_type": "code",
   "execution_count": null,
   "id": "d8a72031",
   "metadata": {},
   "outputs": [],
   "source": [
    "from sklearn.model_selection import train_test_split"
   ]
  },
  {
   "cell_type": "code",
   "execution_count": null,
   "id": "675dfe55",
   "metadata": {},
   "outputs": [],
   "source": [
    "x_train, x_test, y_train, y_test = train_test_split(image_array, label_array, test_size = 0.1)\n",
    "\n",
    "# x_train will have 90% of images \n",
    "# x_test will have 10% of images"
   ]
  },
  {
   "cell_type": "code",
   "execution_count": null,
   "id": "644d4e60",
   "metadata": {},
   "outputs": [],
   "source": [
    "del image_array,label_array"
   ]
  },
  {
   "cell_type": "code",
   "execution_count": null,
   "id": "10c03f32",
   "metadata": {},
   "outputs": [],
   "source": [
    "#memory-free\n",
    "import gc\n",
    "gc.collect()"
   ]
  },
  {
   "cell_type": "code",
   "execution_count": null,
   "id": "d973a9ab",
   "metadata": {},
   "outputs": [],
   "source": [
    "from keras import layers,callbacks,utils,applications,optimizers\n",
    "from keras.models import Sequential, Model, load_model"
   ]
  },
  {
   "cell_type": "code",
   "execution_count": null,
   "id": "97ae52be",
   "metadata": {},
   "outputs": [],
   "source": [
    "model = Sequential()"
   ]
  },
  {
   "cell_type": "code",
   "execution_count": null,
   "id": "a81cc3e2",
   "metadata": {},
   "outputs": [],
   "source": [
    "pretrained_model = tf.keras.applications.EfficientNetB0(input_shape = (96, 96, 3), include_top = False)\n",
    "model.add(pretrained_model)"
   ]
  },
  {
   "cell_type": "code",
   "execution_count": null,
   "id": "93b5bf82",
   "metadata": {},
   "outputs": [],
   "source": [
    "model.add(layers.GlobalAveragePooling2D())\n",
    "model.add(layers.Dropout(0.3))\n",
    "model.add(layers.Dense(1))\n",
    "model.build(input_shape=(None,96,96,3))"
   ]
  },
  {
   "cell_type": "code",
   "execution_count": null,
   "id": "bef281ac",
   "metadata": {},
   "outputs": [],
   "source": [
    "model.summary()"
   ]
  },
  {
   "cell_type": "code",
   "execution_count": null,
   "id": "5c22b6d6",
   "metadata": {},
   "outputs": [],
   "source": [
    "model.compile(optimizer=\"adam\",loss=\"mae\",metrics=[\"mae\"])"
   ]
  },
  {
   "cell_type": "code",
   "execution_count": null,
   "id": "bcbfa68f",
   "metadata": {},
   "outputs": [],
   "source": [
    "check_path = \"../SignTracker/models/sign_checkpoint\""
   ]
  },
  {
   "cell_type": "code",
   "execution_count": null,
   "id": "c220aa3d",
   "metadata": {},
   "outputs": [],
   "source": [
    "model_checkpoint=tf.keras.callbacks.ModelCheckpoint(\n",
    "    filepath = check_path,\n",
    "    monitor = \"val_mae\",\n",
    "    mode = \"auto\",\n",
    "    save_best_only = True,\n",
    "    save_weights_only = True\n",
    ")"
   ]
  },
  {
   "cell_type": "code",
   "execution_count": null,
   "id": "8ad2791d",
   "metadata": {},
   "outputs": [],
   "source": [
    "reduce_lr=tf.keras.callbacks.ReduceLROnPlateau(\n",
    "    factor = 0.9, #lr= 0.9* current lr\n",
    "    monitor = \"val_mae\",\n",
    "    mode = \"auto\",\n",
    "    cooldown = 0,\n",
    "    patience = 5,\n",
    "    verbose = 1,\n",
    "    min_le = 1e-6\n",
    ")"
   ]
  },
  {
   "cell_type": "code",
   "execution_count": null,
   "id": "5458364a",
   "metadata": {},
   "outputs": [],
   "source": [
    "history=model.fit(\n",
    "    x_train,\n",
    "    y_train,\n",
    "    validation_data = (x_test, y_test),\n",
    "    batch_size = 16,\n",
    "    epochs = 150,\n",
    "    callbacks = [model_checkpoint, reduce_lr]\n",
    ")"
   ]
  },
  {
   "cell_type": "code",
   "execution_count": null,
   "id": "c28bc334",
   "metadata": {},
   "outputs": [],
   "source": [
    "loss = history.history['loss']\n",
    "val_loss = history.history['val_loss']\n",
    "\n",
    "epochs = range(1, len(loss)+1)\n",
    "\n",
    "plt.plot(epochs, loss, 'b', label = \"training loss\")\n",
    "plt.plot(epochs, val_loss, 'r', label = \"validation loss\")\n",
    "plt.title('Training and validation loss')\n",
    "plt.legend()\n",
    "\n",
    "plt.show()"
   ]
  },
  {
   "cell_type": "code",
   "execution_count": null,
   "id": "59cc25ee",
   "metadata": {},
   "outputs": [],
   "source": [
    "model.load_weights(check_path)"
   ]
  },
  {
   "cell_type": "code",
   "execution_count": null,
   "id": "dd1d4e36",
   "metadata": {},
   "outputs": [],
   "source": [
    "converter=tf.lite.TFLiteConverter.from_keras_model(model)\n",
    "tflite_model=converter.convert()"
   ]
  },
  {
   "cell_type": "code",
   "execution_count": null,
   "id": "6b73d8c1",
   "metadata": {},
   "outputs": [],
   "source": [
    "with open(\"SignTrackerModel.tflite\",\"wb\") as f:\n",
    "    f.write(tflite_model)"
   ]
  },
  {
   "cell_type": "code",
   "execution_count": null,
   "id": "c9050778",
   "metadata": {},
   "outputs": [],
   "source": [
    "prediction_val=model.predict(x_test,batch_size=32)"
   ]
  },
  {
   "cell_type": "code",
   "execution_count": null,
   "id": "e6a9be9f",
   "metadata": {},
   "outputs": [],
   "source": [
    "print(prediction_val[:10])\n",
    "print(y_test[:10])"
   ]
  },
  {
   "cell_type": "code",
   "execution_count": null,
   "id": "c0e17e8d",
   "metadata": {},
   "outputs": [],
   "source": []
  }
 ],
 "metadata": {
  "kernelspec": {
   "display_name": "Python 3 (ipykernel)",
   "language": "python",
   "name": "python3"
  },
  "language_info": {
   "codemirror_mode": {
    "name": "ipython",
    "version": 3
   },
   "file_extension": ".py",
   "mimetype": "text/x-python",
   "name": "python",
   "nbconvert_exporter": "python",
   "pygments_lexer": "ipython3",
   "version": "3.9.13"
  }
 },
 "nbformat": 4,
 "nbformat_minor": 5
}
